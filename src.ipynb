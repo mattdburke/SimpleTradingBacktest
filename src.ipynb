{
 "cells": [
  {
   "cell_type": "code",
   "execution_count": 218,
   "metadata": {},
   "outputs": [
    {
     "name": "stdout",
     "output_type": "stream",
     "text": [
      "Requirement already satisfied: yfinance in c:\\users\\mattb\\anaconda3\\lib\\site-packages (0.1.70)\n",
      "Requirement already satisfied: multitasking>=0.0.7 in c:\\users\\mattb\\anaconda3\\lib\\site-packages (from yfinance) (0.0.10)\n",
      "Requirement already satisfied: requests>=2.26 in c:\\users\\mattb\\anaconda3\\lib\\site-packages (from yfinance) (2.26.0)\n",
      "Requirement already satisfied: pandas>=0.24.0 in c:\\users\\mattb\\anaconda3\\lib\\site-packages (from yfinance) (1.3.4)\n",
      "Requirement already satisfied: lxml>=4.5.1 in c:\\users\\mattb\\anaconda3\\lib\\site-packages (from yfinance) (4.6.3)\n",
      "Requirement already satisfied: numpy>=1.15 in c:\\users\\mattb\\anaconda3\\lib\\site-packages (from yfinance) (1.20.3)\n",
      "Requirement already satisfied: pytz>=2017.3 in c:\\users\\mattb\\anaconda3\\lib\\site-packages (from pandas>=0.24.0->yfinance) (2021.3)\n",
      "Requirement already satisfied: python-dateutil>=2.7.3 in c:\\users\\mattb\\anaconda3\\lib\\site-packages (from pandas>=0.24.0->yfinance) (2.8.2)\n",
      "Requirement already satisfied: six>=1.5 in c:\\users\\mattb\\anaconda3\\lib\\site-packages (from python-dateutil>=2.7.3->pandas>=0.24.0->yfinance) (1.16.0)\n",
      "Requirement already satisfied: charset-normalizer~=2.0.0 in c:\\users\\mattb\\anaconda3\\lib\\site-packages (from requests>=2.26->yfinance) (2.0.4)\n",
      "Requirement already satisfied: idna<4,>=2.5 in c:\\users\\mattb\\anaconda3\\lib\\site-packages (from requests>=2.26->yfinance) (3.2)\n",
      "Requirement already satisfied: urllib3<1.27,>=1.21.1 in c:\\users\\mattb\\anaconda3\\lib\\site-packages (from requests>=2.26->yfinance) (1.26.7)\n",
      "Requirement already satisfied: certifi>=2017.4.17 in c:\\users\\mattb\\anaconda3\\lib\\site-packages (from requests>=2.26->yfinance) (2021.10.8)\n"
     ]
    }
   ],
   "source": [
    "!pip install yfinance\n",
    "import yfinance as yf\n",
    "import pandas as pd\n",
    "import numpy as np\n",
    "import random \n",
    "from tqdm import tqdm\n",
    "import plotly\n",
    "import plotly.graph_objects as go\n",
    "from plotly.subplots import make_subplots\n",
    "import plotly.express as px\n",
    "import plotly.figure_factory as ff"
   ]
  },
  {
   "cell_type": "code",
   "execution_count": 219,
   "metadata": {},
   "outputs": [
    {
     "name": "stdout",
     "output_type": "stream",
     "text": [
      "[*********************100%***********************]  1 of 1 completed\n"
     ]
    }
   ],
   "source": [
    "sd = \"2017-01-01\"\n",
    "ed = \"2022-12-31\"\n",
    "int = \"1d\"\n",
    "\n",
    "def create_dataframe(ticker):\n",
    "    df = yf.download(ticker, start=sd, end=ed, interval=int)\n",
    "    df = df.reset_index(level=0)\n",
    "    df = df[[\"Date\", \"Adj Close\"]]\n",
    "    df = df.rename({'Adj Close': \"price\"}, axis=1)  # new method\n",
    "    return df\n",
    "\n",
    "GBPUSD = create_dataframe(\"GBPUSD=X\")\n",
    "# GBPUSD = create_dataframe(\"^GSPC\")\n",
    "# GBPUSD = create_dataframe(\"BTC-USD\")"
   ]
  },
  {
   "cell_type": "code",
   "execution_count": 220,
   "metadata": {},
   "outputs": [],
   "source": [
    "gain = []\n",
    "\n",
    "for i in range(1, len(GBPUSD['price'])):\n",
    "    if (GBPUSD['price'][i] - GBPUSD['price'][i-1])>0:\n",
    "        gain.append(GBPUSD['price'][i] - GBPUSD['price'][i-1])\n",
    "    else:\n",
    "        gain.append(0)\n",
    "\n",
    "loss = []\n",
    "\n",
    "for i in range(1, len(GBPUSD['price'])):\n",
    "    if (GBPUSD['price'][i] - GBPUSD['price'][i-1])<0:\n",
    "        loss.append(GBPUSD['price'][i] - GBPUSD['price'][i-1])\n",
    "    else:\n",
    "        loss.append(0)\n",
    "\n",
    "gain = [0] + gain\n",
    "loss = [0] + loss\n",
    "\n",
    "GBPUSD['gain'] = gain\n",
    "GBPUSD['loss'] = loss\n",
    "    \n",
    "\n"
   ]
  },
  {
   "cell_type": "code",
   "execution_count": 221,
   "metadata": {},
   "outputs": [],
   "source": [
    "GBPUSD['avg_gain'] = GBPUSD['gain'].rolling(15).mean()\n",
    "GBPUSD['avg_loss'] = GBPUSD['loss'].rolling(15).mean()\n",
    "\n",
    "GBPUSD['RSI'] = 100 - 100 / (1 + (GBPUSD['avg_gain']/abs(GBPUSD['avg_loss'])))"
   ]
  },
  {
   "cell_type": "code",
   "execution_count": 222,
   "metadata": {},
   "outputs": [
    {
     "data": {
      "text/html": [
       "<div>\n",
       "<style scoped>\n",
       "    .dataframe tbody tr th:only-of-type {\n",
       "        vertical-align: middle;\n",
       "    }\n",
       "\n",
       "    .dataframe tbody tr th {\n",
       "        vertical-align: top;\n",
       "    }\n",
       "\n",
       "    .dataframe thead th {\n",
       "        text-align: right;\n",
       "    }\n",
       "</style>\n",
       "<table border=\"1\" class=\"dataframe\">\n",
       "  <thead>\n",
       "    <tr style=\"text-align: right;\">\n",
       "      <th></th>\n",
       "      <th>Date</th>\n",
       "      <th>price</th>\n",
       "      <th>gain</th>\n",
       "      <th>loss</th>\n",
       "      <th>avg_gain</th>\n",
       "      <th>avg_loss</th>\n",
       "      <th>RSI</th>\n",
       "      <th>signal</th>\n",
       "    </tr>\n",
       "  </thead>\n",
       "  <tbody>\n",
       "    <tr>\n",
       "      <th>0</th>\n",
       "      <td>2017-01-02</td>\n",
       "      <td>1.234903</td>\n",
       "      <td>0.000000</td>\n",
       "      <td>0.000000</td>\n",
       "      <td>NaN</td>\n",
       "      <td>NaN</td>\n",
       "      <td>NaN</td>\n",
       "      <td>0</td>\n",
       "    </tr>\n",
       "    <tr>\n",
       "      <th>1</th>\n",
       "      <td>2017-01-03</td>\n",
       "      <td>1.228199</td>\n",
       "      <td>0.000000</td>\n",
       "      <td>-0.006704</td>\n",
       "      <td>NaN</td>\n",
       "      <td>NaN</td>\n",
       "      <td>NaN</td>\n",
       "      <td>0</td>\n",
       "    </tr>\n",
       "    <tr>\n",
       "      <th>2</th>\n",
       "      <td>2017-01-04</td>\n",
       "      <td>1.224560</td>\n",
       "      <td>0.000000</td>\n",
       "      <td>-0.003640</td>\n",
       "      <td>NaN</td>\n",
       "      <td>NaN</td>\n",
       "      <td>NaN</td>\n",
       "      <td>0</td>\n",
       "    </tr>\n",
       "    <tr>\n",
       "      <th>3</th>\n",
       "      <td>2017-01-05</td>\n",
       "      <td>1.232681</td>\n",
       "      <td>0.008121</td>\n",
       "      <td>0.000000</td>\n",
       "      <td>NaN</td>\n",
       "      <td>NaN</td>\n",
       "      <td>NaN</td>\n",
       "      <td>0</td>\n",
       "    </tr>\n",
       "    <tr>\n",
       "      <th>4</th>\n",
       "      <td>2017-01-06</td>\n",
       "      <td>1.242545</td>\n",
       "      <td>0.009864</td>\n",
       "      <td>0.000000</td>\n",
       "      <td>NaN</td>\n",
       "      <td>NaN</td>\n",
       "      <td>NaN</td>\n",
       "      <td>0</td>\n",
       "    </tr>\n",
       "    <tr>\n",
       "      <th>5</th>\n",
       "      <td>2017-01-09</td>\n",
       "      <td>1.226091</td>\n",
       "      <td>0.000000</td>\n",
       "      <td>-0.016454</td>\n",
       "      <td>NaN</td>\n",
       "      <td>NaN</td>\n",
       "      <td>NaN</td>\n",
       "      <td>0</td>\n",
       "    </tr>\n",
       "    <tr>\n",
       "      <th>6</th>\n",
       "      <td>2017-01-10</td>\n",
       "      <td>1.217345</td>\n",
       "      <td>0.000000</td>\n",
       "      <td>-0.008747</td>\n",
       "      <td>NaN</td>\n",
       "      <td>NaN</td>\n",
       "      <td>NaN</td>\n",
       "      <td>0</td>\n",
       "    </tr>\n",
       "    <tr>\n",
       "      <th>7</th>\n",
       "      <td>2017-01-11</td>\n",
       "      <td>1.217434</td>\n",
       "      <td>0.000089</td>\n",
       "      <td>0.000000</td>\n",
       "      <td>NaN</td>\n",
       "      <td>NaN</td>\n",
       "      <td>NaN</td>\n",
       "      <td>0</td>\n",
       "    </tr>\n",
       "    <tr>\n",
       "      <th>8</th>\n",
       "      <td>2017-01-12</td>\n",
       "      <td>1.221449</td>\n",
       "      <td>0.004015</td>\n",
       "      <td>0.000000</td>\n",
       "      <td>NaN</td>\n",
       "      <td>NaN</td>\n",
       "      <td>NaN</td>\n",
       "      <td>0</td>\n",
       "    </tr>\n",
       "    <tr>\n",
       "      <th>9</th>\n",
       "      <td>2017-01-13</td>\n",
       "      <td>1.216545</td>\n",
       "      <td>0.000000</td>\n",
       "      <td>-0.004904</td>\n",
       "      <td>NaN</td>\n",
       "      <td>NaN</td>\n",
       "      <td>NaN</td>\n",
       "      <td>0</td>\n",
       "    </tr>\n",
       "    <tr>\n",
       "      <th>10</th>\n",
       "      <td>2017-01-16</td>\n",
       "      <td>1.203935</td>\n",
       "      <td>0.000000</td>\n",
       "      <td>-0.012610</td>\n",
       "      <td>NaN</td>\n",
       "      <td>NaN</td>\n",
       "      <td>NaN</td>\n",
       "      <td>0</td>\n",
       "    </tr>\n",
       "    <tr>\n",
       "      <th>11</th>\n",
       "      <td>2017-01-17</td>\n",
       "      <td>1.204021</td>\n",
       "      <td>0.000087</td>\n",
       "      <td>0.000000</td>\n",
       "      <td>NaN</td>\n",
       "      <td>NaN</td>\n",
       "      <td>NaN</td>\n",
       "      <td>0</td>\n",
       "    </tr>\n",
       "    <tr>\n",
       "      <th>12</th>\n",
       "      <td>2017-01-18</td>\n",
       "      <td>1.238804</td>\n",
       "      <td>0.034783</td>\n",
       "      <td>0.000000</td>\n",
       "      <td>NaN</td>\n",
       "      <td>NaN</td>\n",
       "      <td>NaN</td>\n",
       "      <td>0</td>\n",
       "    </tr>\n",
       "    <tr>\n",
       "      <th>13</th>\n",
       "      <td>2017-01-19</td>\n",
       "      <td>1.225971</td>\n",
       "      <td>0.000000</td>\n",
       "      <td>-0.012833</td>\n",
       "      <td>NaN</td>\n",
       "      <td>NaN</td>\n",
       "      <td>NaN</td>\n",
       "      <td>0</td>\n",
       "    </tr>\n",
       "    <tr>\n",
       "      <th>14</th>\n",
       "      <td>2017-01-20</td>\n",
       "      <td>1.233837</td>\n",
       "      <td>0.007866</td>\n",
       "      <td>0.000000</td>\n",
       "      <td>0.004322</td>\n",
       "      <td>-0.004393</td>\n",
       "      <td>49.592028</td>\n",
       "      <td>0</td>\n",
       "    </tr>\n",
       "    <tr>\n",
       "      <th>15</th>\n",
       "      <td>2017-01-23</td>\n",
       "      <td>1.238697</td>\n",
       "      <td>0.004860</td>\n",
       "      <td>0.000000</td>\n",
       "      <td>0.004646</td>\n",
       "      <td>-0.004393</td>\n",
       "      <td>51.399070</td>\n",
       "      <td>0</td>\n",
       "    </tr>\n",
       "    <tr>\n",
       "      <th>16</th>\n",
       "      <td>2017-01-24</td>\n",
       "      <td>1.251721</td>\n",
       "      <td>0.013024</td>\n",
       "      <td>0.000000</td>\n",
       "      <td>0.005514</td>\n",
       "      <td>-0.003946</td>\n",
       "      <td>58.288345</td>\n",
       "      <td>0</td>\n",
       "    </tr>\n",
       "    <tr>\n",
       "      <th>17</th>\n",
       "      <td>2017-01-25</td>\n",
       "      <td>1.253306</td>\n",
       "      <td>0.001584</td>\n",
       "      <td>0.000000</td>\n",
       "      <td>0.005620</td>\n",
       "      <td>-0.003703</td>\n",
       "      <td>60.278040</td>\n",
       "      <td>0</td>\n",
       "    </tr>\n",
       "    <tr>\n",
       "      <th>18</th>\n",
       "      <td>2017-01-26</td>\n",
       "      <td>1.263408</td>\n",
       "      <td>0.010102</td>\n",
       "      <td>0.000000</td>\n",
       "      <td>0.005752</td>\n",
       "      <td>-0.003703</td>\n",
       "      <td>60.832990</td>\n",
       "      <td>0</td>\n",
       "    </tr>\n",
       "    <tr>\n",
       "      <th>19</th>\n",
       "      <td>2017-01-27</td>\n",
       "      <td>1.259541</td>\n",
       "      <td>0.000000</td>\n",
       "      <td>-0.003867</td>\n",
       "      <td>0.005094</td>\n",
       "      <td>-0.003961</td>\n",
       "      <td>56.256676</td>\n",
       "      <td>0</td>\n",
       "    </tr>\n",
       "    <tr>\n",
       "      <th>20</th>\n",
       "      <td>2017-01-30</td>\n",
       "      <td>1.259192</td>\n",
       "      <td>0.000000</td>\n",
       "      <td>-0.000349</td>\n",
       "      <td>0.005094</td>\n",
       "      <td>-0.002887</td>\n",
       "      <td>63.824222</td>\n",
       "      <td>0</td>\n",
       "    </tr>\n",
       "    <tr>\n",
       "      <th>21</th>\n",
       "      <td>2017-01-31</td>\n",
       "      <td>1.250000</td>\n",
       "      <td>0.000000</td>\n",
       "      <td>-0.009192</td>\n",
       "      <td>0.005094</td>\n",
       "      <td>-0.002917</td>\n",
       "      <td>63.587546</td>\n",
       "      <td>0</td>\n",
       "    </tr>\n",
       "    <tr>\n",
       "      <th>22</th>\n",
       "      <td>2017-02-01</td>\n",
       "      <td>1.258970</td>\n",
       "      <td>0.008970</td>\n",
       "      <td>0.000000</td>\n",
       "      <td>0.005686</td>\n",
       "      <td>-0.002917</td>\n",
       "      <td>66.093502</td>\n",
       "      <td>0</td>\n",
       "    </tr>\n",
       "    <tr>\n",
       "      <th>23</th>\n",
       "      <td>2017-02-02</td>\n",
       "      <td>1.266143</td>\n",
       "      <td>0.007173</td>\n",
       "      <td>0.000000</td>\n",
       "      <td>0.005897</td>\n",
       "      <td>-0.002917</td>\n",
       "      <td>66.903482</td>\n",
       "      <td>0</td>\n",
       "    </tr>\n",
       "    <tr>\n",
       "      <th>24</th>\n",
       "      <td>2017-02-03</td>\n",
       "      <td>1.252003</td>\n",
       "      <td>0.000000</td>\n",
       "      <td>-0.014140</td>\n",
       "      <td>0.005897</td>\n",
       "      <td>-0.003533</td>\n",
       "      <td>62.534545</td>\n",
       "      <td>0</td>\n",
       "    </tr>\n",
       "    <tr>\n",
       "      <th>25</th>\n",
       "      <td>2017-02-06</td>\n",
       "      <td>1.248424</td>\n",
       "      <td>0.000000</td>\n",
       "      <td>-0.003579</td>\n",
       "      <td>0.005897</td>\n",
       "      <td>-0.002931</td>\n",
       "      <td>66.799701</td>\n",
       "      <td>0</td>\n",
       "    </tr>\n",
       "    <tr>\n",
       "      <th>26</th>\n",
       "      <td>2017-02-07</td>\n",
       "      <td>1.246836</td>\n",
       "      <td>0.000000</td>\n",
       "      <td>-0.001588</td>\n",
       "      <td>0.005891</td>\n",
       "      <td>-0.003037</td>\n",
       "      <td>65.986132</td>\n",
       "      <td>0</td>\n",
       "    </tr>\n",
       "    <tr>\n",
       "      <th>27</th>\n",
       "      <td>2017-02-08</td>\n",
       "      <td>1.249625</td>\n",
       "      <td>0.002789</td>\n",
       "      <td>0.000000</td>\n",
       "      <td>0.003758</td>\n",
       "      <td>-0.003037</td>\n",
       "      <td>55.308562</td>\n",
       "      <td>0</td>\n",
       "    </tr>\n",
       "    <tr>\n",
       "      <th>28</th>\n",
       "      <td>2017-02-09</td>\n",
       "      <td>1.252803</td>\n",
       "      <td>0.003178</td>\n",
       "      <td>0.000000</td>\n",
       "      <td>0.003970</td>\n",
       "      <td>-0.002181</td>\n",
       "      <td>64.541174</td>\n",
       "      <td>0</td>\n",
       "    </tr>\n",
       "    <tr>\n",
       "      <th>29</th>\n",
       "      <td>2017-02-10</td>\n",
       "      <td>1.249812</td>\n",
       "      <td>0.000000</td>\n",
       "      <td>-0.002991</td>\n",
       "      <td>0.003445</td>\n",
       "      <td>-0.002380</td>\n",
       "      <td>59.140750</td>\n",
       "      <td>0</td>\n",
       "    </tr>\n",
       "  </tbody>\n",
       "</table>\n",
       "</div>"
      ],
      "text/plain": [
       "         Date     price      gain      loss  avg_gain  avg_loss        RSI  \\\n",
       "0  2017-01-02  1.234903  0.000000  0.000000       NaN       NaN        NaN   \n",
       "1  2017-01-03  1.228199  0.000000 -0.006704       NaN       NaN        NaN   \n",
       "2  2017-01-04  1.224560  0.000000 -0.003640       NaN       NaN        NaN   \n",
       "3  2017-01-05  1.232681  0.008121  0.000000       NaN       NaN        NaN   \n",
       "4  2017-01-06  1.242545  0.009864  0.000000       NaN       NaN        NaN   \n",
       "5  2017-01-09  1.226091  0.000000 -0.016454       NaN       NaN        NaN   \n",
       "6  2017-01-10  1.217345  0.000000 -0.008747       NaN       NaN        NaN   \n",
       "7  2017-01-11  1.217434  0.000089  0.000000       NaN       NaN        NaN   \n",
       "8  2017-01-12  1.221449  0.004015  0.000000       NaN       NaN        NaN   \n",
       "9  2017-01-13  1.216545  0.000000 -0.004904       NaN       NaN        NaN   \n",
       "10 2017-01-16  1.203935  0.000000 -0.012610       NaN       NaN        NaN   \n",
       "11 2017-01-17  1.204021  0.000087  0.000000       NaN       NaN        NaN   \n",
       "12 2017-01-18  1.238804  0.034783  0.000000       NaN       NaN        NaN   \n",
       "13 2017-01-19  1.225971  0.000000 -0.012833       NaN       NaN        NaN   \n",
       "14 2017-01-20  1.233837  0.007866  0.000000  0.004322 -0.004393  49.592028   \n",
       "15 2017-01-23  1.238697  0.004860  0.000000  0.004646 -0.004393  51.399070   \n",
       "16 2017-01-24  1.251721  0.013024  0.000000  0.005514 -0.003946  58.288345   \n",
       "17 2017-01-25  1.253306  0.001584  0.000000  0.005620 -0.003703  60.278040   \n",
       "18 2017-01-26  1.263408  0.010102  0.000000  0.005752 -0.003703  60.832990   \n",
       "19 2017-01-27  1.259541  0.000000 -0.003867  0.005094 -0.003961  56.256676   \n",
       "20 2017-01-30  1.259192  0.000000 -0.000349  0.005094 -0.002887  63.824222   \n",
       "21 2017-01-31  1.250000  0.000000 -0.009192  0.005094 -0.002917  63.587546   \n",
       "22 2017-02-01  1.258970  0.008970  0.000000  0.005686 -0.002917  66.093502   \n",
       "23 2017-02-02  1.266143  0.007173  0.000000  0.005897 -0.002917  66.903482   \n",
       "24 2017-02-03  1.252003  0.000000 -0.014140  0.005897 -0.003533  62.534545   \n",
       "25 2017-02-06  1.248424  0.000000 -0.003579  0.005897 -0.002931  66.799701   \n",
       "26 2017-02-07  1.246836  0.000000 -0.001588  0.005891 -0.003037  65.986132   \n",
       "27 2017-02-08  1.249625  0.002789  0.000000  0.003758 -0.003037  55.308562   \n",
       "28 2017-02-09  1.252803  0.003178  0.000000  0.003970 -0.002181  64.541174   \n",
       "29 2017-02-10  1.249812  0.000000 -0.002991  0.003445 -0.002380  59.140750   \n",
       "\n",
       "    signal  \n",
       "0        0  \n",
       "1        0  \n",
       "2        0  \n",
       "3        0  \n",
       "4        0  \n",
       "5        0  \n",
       "6        0  \n",
       "7        0  \n",
       "8        0  \n",
       "9        0  \n",
       "10       0  \n",
       "11       0  \n",
       "12       0  \n",
       "13       0  \n",
       "14       0  \n",
       "15       0  \n",
       "16       0  \n",
       "17       0  \n",
       "18       0  \n",
       "19       0  \n",
       "20       0  \n",
       "21       0  \n",
       "22       0  \n",
       "23       0  \n",
       "24       0  \n",
       "25       0  \n",
       "26       0  \n",
       "27       0  \n",
       "28       0  \n",
       "29       0  "
      ]
     },
     "execution_count": 222,
     "metadata": {},
     "output_type": "execute_result"
    }
   ],
   "source": [
    "signal = []\n",
    "\n",
    "for i in GBPUSD['RSI']:\n",
    "    if i > 70:\n",
    "        signal.append(-1)\n",
    "    elif i < 30:\n",
    "        signal.append(1)\n",
    "    else:\n",
    "        signal.append(0)\n",
    "\n",
    "GBPUSD['signal'] = signal\n",
    "\n",
    "GBPUSD.head(30)"
   ]
  },
  {
   "cell_type": "code",
   "execution_count": 223,
   "metadata": {},
   "outputs": [
    {
     "name": "stdout",
     "output_type": "stream",
     "text": [
      "    index       Date     price  signal\n",
      "0      49 2017-03-10  1.215732       1\n",
      "1      52 2017-03-15  1.215746       1\n",
      "2      61 2017-03-28  1.255792      -1\n",
      "3      64 2017-03-31  1.247847      -1\n",
      "4      65 2017-04-03  1.254076      -1\n",
      "5      77 2017-04-19  1.284456      -1\n",
      "6      82 2017-04-26  1.283236      -1\n",
      "7      83 2017-04-27  1.284835      -1\n",
      "8      84 2017-04-28  1.289358      -1\n",
      "9      85 2017-05-01  1.293159      -1\n",
      "10     86 2017-05-02  1.289740      -1\n",
      "11     87 2017-05-03  1.294163      -1\n",
      "12     89 2017-05-05  1.292491      -1\n",
      "13     90 2017-05-08  1.296563      -1\n",
      "14     91 2017-05-09  1.294331      -1\n",
      "15    116 2017-06-13  1.266978       1\n",
      "16    139 2017-07-17  1.311131      -1\n",
      "17    150 2017-08-01  1.319540      -1\n",
      "18    151 2017-08-02  1.320795      -1\n",
      "19    152 2017-08-03  1.322839      -1\n"
     ]
    }
   ],
   "source": [
    "GBPUSD = GBPUSD[(GBPUSD.signal==1) | (GBPUSD.signal==-1)]\n",
    "df1 = GBPUSD[[\"Date\", \"price\", \"signal\"]]\n",
    "df1 = df1.reset_index()\n",
    "print (df1.head(20))"
   ]
  },
  {
   "cell_type": "code",
   "execution_count": 224,
   "metadata": {},
   "outputs": [
    {
     "data": {
      "text/html": [
       "<div>\n",
       "<style scoped>\n",
       "    .dataframe tbody tr th:only-of-type {\n",
       "        vertical-align: middle;\n",
       "    }\n",
       "\n",
       "    .dataframe tbody tr th {\n",
       "        vertical-align: top;\n",
       "    }\n",
       "\n",
       "    .dataframe thead th {\n",
       "        text-align: right;\n",
       "    }\n",
       "</style>\n",
       "<table border=\"1\" class=\"dataframe\">\n",
       "  <thead>\n",
       "    <tr style=\"text-align: right;\">\n",
       "      <th></th>\n",
       "      <th>index</th>\n",
       "      <th>Date</th>\n",
       "      <th>price</th>\n",
       "      <th>signal</th>\n",
       "      <th>action</th>\n",
       "    </tr>\n",
       "  </thead>\n",
       "  <tbody>\n",
       "    <tr>\n",
       "      <th>0</th>\n",
       "      <td>49</td>\n",
       "      <td>2017-03-10</td>\n",
       "      <td>1.215732</td>\n",
       "      <td>1</td>\n",
       "      <td>BUY</td>\n",
       "    </tr>\n",
       "    <tr>\n",
       "      <th>1</th>\n",
       "      <td>52</td>\n",
       "      <td>2017-03-15</td>\n",
       "      <td>1.215746</td>\n",
       "      <td>1</td>\n",
       "      <td>No Action</td>\n",
       "    </tr>\n",
       "    <tr>\n",
       "      <th>2</th>\n",
       "      <td>61</td>\n",
       "      <td>2017-03-28</td>\n",
       "      <td>1.255792</td>\n",
       "      <td>-1</td>\n",
       "      <td>SELL</td>\n",
       "    </tr>\n",
       "    <tr>\n",
       "      <th>3</th>\n",
       "      <td>64</td>\n",
       "      <td>2017-03-31</td>\n",
       "      <td>1.247847</td>\n",
       "      <td>-1</td>\n",
       "      <td>No Action</td>\n",
       "    </tr>\n",
       "    <tr>\n",
       "      <th>4</th>\n",
       "      <td>65</td>\n",
       "      <td>2017-04-03</td>\n",
       "      <td>1.254076</td>\n",
       "      <td>-1</td>\n",
       "      <td>No Action</td>\n",
       "    </tr>\n",
       "  </tbody>\n",
       "</table>\n",
       "</div>"
      ],
      "text/plain": [
       "   index       Date     price  signal     action\n",
       "0     49 2017-03-10  1.215732       1        BUY\n",
       "1     52 2017-03-15  1.215746       1  No Action\n",
       "2     61 2017-03-28  1.255792      -1       SELL\n",
       "3     64 2017-03-31  1.247847      -1  No Action\n",
       "4     65 2017-04-03  1.254076      -1  No Action"
      ]
     },
     "execution_count": 224,
     "metadata": {},
     "output_type": "execute_result"
    }
   ],
   "source": [
    "action =[]\n",
    "\n",
    "for i in range(1, len(df1['signal'])):\n",
    "    if (df1['signal'][i] == 1) & (df1['signal'][i-1] != 1):\n",
    "        action.append('BUY')\n",
    "    elif (df1['signal'][i] == -1) & (df1['signal'][i-1] != -1):\n",
    "        action.append('SELL')\n",
    "    else:\n",
    "        action.append('No Action')\n",
    "\n",
    "action = ['BUY'] + action\n",
    "\n",
    "df1['action'] = action\n",
    "\n",
    "df1.head()\n"
   ]
  },
  {
   "cell_type": "code",
   "execution_count": 225,
   "metadata": {},
   "outputs": [],
   "source": [
    "df1 = df1[(df1.action=='BUY') | (df1.action=='SELL')]\n",
    "df1 = df1.reset_index()"
   ]
  },
  {
   "cell_type": "code",
   "execution_count": 226,
   "metadata": {},
   "outputs": [
    {
     "name": "stdout",
     "output_type": "stream",
     "text": [
      "    level_0  index       Date     price  signal action    logret\n",
      "0         0     49 2017-03-10  1.215732       1    BUY       NaN\n",
      "1         2     61 2017-03-28  1.255792      -1   SELL  0.032421\n",
      "2        15    116 2017-06-13  1.266978       1    BUY  0.008867\n",
      "3        16    139 2017-07-17  1.311131      -1   SELL  0.034256\n",
      "4        20    164 2017-08-21  1.287366       1    BUY -0.018292\n",
      "5        25    178 2017-09-08  1.310479      -1   SELL  0.017794\n",
      "6        38    199 2017-10-09  1.308404       1    BUY -0.001584\n",
      "7        41    233 2017-11-27  1.332445      -1   SELL  0.018208\n",
      "8        69    307 2018-03-09  1.380567       1    BUY  0.035479\n",
      "9        70    316 2018-03-22  1.414627      -1   SELL  0.024372\n",
      "10       74    344 2018-05-01  1.377221       1    BUY -0.026799\n",
      "11      106    442 2018-09-14  1.311131      -1   SELL -0.049177\n",
      "12      107    475 2018-10-31  1.270890       1    BUY -0.031173\n",
      "13      109    520 2019-01-02  1.275429      -1   SELL  0.003565\n",
      "14      114    552 2019-02-15  1.279836       1    BUY  0.003450\n",
      "15      116    560 2019-02-27  1.325803      -1   SELL  0.035286\n",
      "16      119    601 2019-04-25  1.290489       1    BUY -0.026997\n",
      "17      147    708 2019-09-24  1.243456      -1   SELL -0.037126\n",
      "18      149    719 2019-10-09  1.221956       1    BUY -0.017442\n",
      "19      151    725 2019-10-17  1.282380      -1   SELL  0.048265\n",
      "20      169    832 2020-03-16  1.239987       1    BUY -0.033617\n",
      "21      178    850 2020-04-09  1.239311      -1   SELL -0.000545\n",
      "22      184    881 2020-05-22  1.222345       1    BUY -0.013785\n",
      "23      185    892 2020-06-08  1.272572      -1   SELL  0.040270\n",
      "24      190    908 2020-06-30  1.231057       1    BUY -0.033167\n",
      "25      191    922 2020-07-20  1.257118      -1   SELL  0.020949\n",
      "26      214    967 2020-09-21  1.293276       1    BUY  0.028357\n",
      "27      220   1015 2020-11-26  1.338545      -1   SELL  0.034404\n",
      "28      231   1161 2021-06-18  1.393864       1    BUY  0.040497\n",
      "29      241   1250 2021-10-21  1.382300      -1   SELL -0.008331\n",
      "30      243   1265 2021-11-11  1.341274       1    BUY -0.030129\n",
      "31      252   1300 2021-12-30  1.349879      -1   SELL  0.006395\n",
      "32      267   1341 2022-02-25  1.337327       1    BUY -0.009342\n",
      "33      301   1453 2022-08-02  1.225415      -1   SELL -0.087394\n",
      "34      304   1468 2022-08-23  1.176651       1    BUY -0.040608\n",
      "35      317   1536 2022-11-25  1.211343      -1   SELL  0.029058\n"
     ]
    }
   ],
   "source": [
    "logret = lambda x : np.log(x/x.shift(1))\n",
    "df1['logret'] = logret(df1['price'])\n",
    "print (df1)\n",
    "df1 = df1[df1.action=='SELL']\n",
    "df1['cumret'] = df1['logret'].cumsum()\n"
   ]
  },
  {
   "cell_type": "code",
   "execution_count": 227,
   "metadata": {},
   "outputs": [
    {
     "name": "stdout",
     "output_type": "stream",
     "text": [
      "0.16266856816510178\n"
     ]
    },
    {
     "data": {
      "application/vnd.plotly.v1+json": {
       "config": {
        "plotlyServerURL": "https://plot.ly"
       },
       "data": [
        {
         "hovertemplate": "variable=cumret<br>index=%{x}<br>value=%{y}<extra></extra>",
         "legendgroup": "cumret",
         "line": {
          "color": "#636efa",
          "dash": "solid"
         },
         "mode": "lines",
         "name": "cumret",
         "orientation": "v",
         "showlegend": true,
         "type": "scatter",
         "x": [
          1,
          3,
          5,
          7,
          9,
          11,
          13,
          15,
          17,
          19,
          21,
          23,
          25,
          27,
          29,
          31,
          33,
          35
         ],
         "xaxis": "x",
         "y": [
          0.03242069874362439,
          0.066677005279838,
          0.08447128432895731,
          0.10267885382425472,
          0.127050545531305,
          0.07787351405695585,
          0.08143829948955993,
          0.11672438087039815,
          0.07959790069338535,
          0.12786274519103327,
          0.12731730439221436,
          0.16758682258973817,
          0.18853570516178092,
          0.22294002228912912,
          0.21460878527676358,
          0.2210042811544207,
          0.1336107287462281,
          0.16266856816510178
         ],
         "yaxis": "y"
        }
       ],
       "layout": {
        "legend": {
         "title": {
          "text": "variable"
         },
         "tracegroupgap": 0
        },
        "margin": {
         "t": 60
        },
        "template": {
         "data": {
          "bar": [
           {
            "error_x": {
             "color": "#2a3f5f"
            },
            "error_y": {
             "color": "#2a3f5f"
            },
            "marker": {
             "line": {
              "color": "#E5ECF6",
              "width": 0.5
             }
            },
            "type": "bar"
           }
          ],
          "barpolar": [
           {
            "marker": {
             "line": {
              "color": "#E5ECF6",
              "width": 0.5
             }
            },
            "type": "barpolar"
           }
          ],
          "carpet": [
           {
            "aaxis": {
             "endlinecolor": "#2a3f5f",
             "gridcolor": "white",
             "linecolor": "white",
             "minorgridcolor": "white",
             "startlinecolor": "#2a3f5f"
            },
            "baxis": {
             "endlinecolor": "#2a3f5f",
             "gridcolor": "white",
             "linecolor": "white",
             "minorgridcolor": "white",
             "startlinecolor": "#2a3f5f"
            },
            "type": "carpet"
           }
          ],
          "choropleth": [
           {
            "colorbar": {
             "outlinewidth": 0,
             "ticks": ""
            },
            "type": "choropleth"
           }
          ],
          "contour": [
           {
            "colorbar": {
             "outlinewidth": 0,
             "ticks": ""
            },
            "colorscale": [
             [
              0,
              "#0d0887"
             ],
             [
              0.1111111111111111,
              "#46039f"
             ],
             [
              0.2222222222222222,
              "#7201a8"
             ],
             [
              0.3333333333333333,
              "#9c179e"
             ],
             [
              0.4444444444444444,
              "#bd3786"
             ],
             [
              0.5555555555555556,
              "#d8576b"
             ],
             [
              0.6666666666666666,
              "#ed7953"
             ],
             [
              0.7777777777777778,
              "#fb9f3a"
             ],
             [
              0.8888888888888888,
              "#fdca26"
             ],
             [
              1,
              "#f0f921"
             ]
            ],
            "type": "contour"
           }
          ],
          "contourcarpet": [
           {
            "colorbar": {
             "outlinewidth": 0,
             "ticks": ""
            },
            "type": "contourcarpet"
           }
          ],
          "heatmap": [
           {
            "colorbar": {
             "outlinewidth": 0,
             "ticks": ""
            },
            "colorscale": [
             [
              0,
              "#0d0887"
             ],
             [
              0.1111111111111111,
              "#46039f"
             ],
             [
              0.2222222222222222,
              "#7201a8"
             ],
             [
              0.3333333333333333,
              "#9c179e"
             ],
             [
              0.4444444444444444,
              "#bd3786"
             ],
             [
              0.5555555555555556,
              "#d8576b"
             ],
             [
              0.6666666666666666,
              "#ed7953"
             ],
             [
              0.7777777777777778,
              "#fb9f3a"
             ],
             [
              0.8888888888888888,
              "#fdca26"
             ],
             [
              1,
              "#f0f921"
             ]
            ],
            "type": "heatmap"
           }
          ],
          "heatmapgl": [
           {
            "colorbar": {
             "outlinewidth": 0,
             "ticks": ""
            },
            "colorscale": [
             [
              0,
              "#0d0887"
             ],
             [
              0.1111111111111111,
              "#46039f"
             ],
             [
              0.2222222222222222,
              "#7201a8"
             ],
             [
              0.3333333333333333,
              "#9c179e"
             ],
             [
              0.4444444444444444,
              "#bd3786"
             ],
             [
              0.5555555555555556,
              "#d8576b"
             ],
             [
              0.6666666666666666,
              "#ed7953"
             ],
             [
              0.7777777777777778,
              "#fb9f3a"
             ],
             [
              0.8888888888888888,
              "#fdca26"
             ],
             [
              1,
              "#f0f921"
             ]
            ],
            "type": "heatmapgl"
           }
          ],
          "histogram": [
           {
            "marker": {
             "colorbar": {
              "outlinewidth": 0,
              "ticks": ""
             }
            },
            "type": "histogram"
           }
          ],
          "histogram2d": [
           {
            "colorbar": {
             "outlinewidth": 0,
             "ticks": ""
            },
            "colorscale": [
             [
              0,
              "#0d0887"
             ],
             [
              0.1111111111111111,
              "#46039f"
             ],
             [
              0.2222222222222222,
              "#7201a8"
             ],
             [
              0.3333333333333333,
              "#9c179e"
             ],
             [
              0.4444444444444444,
              "#bd3786"
             ],
             [
              0.5555555555555556,
              "#d8576b"
             ],
             [
              0.6666666666666666,
              "#ed7953"
             ],
             [
              0.7777777777777778,
              "#fb9f3a"
             ],
             [
              0.8888888888888888,
              "#fdca26"
             ],
             [
              1,
              "#f0f921"
             ]
            ],
            "type": "histogram2d"
           }
          ],
          "histogram2dcontour": [
           {
            "colorbar": {
             "outlinewidth": 0,
             "ticks": ""
            },
            "colorscale": [
             [
              0,
              "#0d0887"
             ],
             [
              0.1111111111111111,
              "#46039f"
             ],
             [
              0.2222222222222222,
              "#7201a8"
             ],
             [
              0.3333333333333333,
              "#9c179e"
             ],
             [
              0.4444444444444444,
              "#bd3786"
             ],
             [
              0.5555555555555556,
              "#d8576b"
             ],
             [
              0.6666666666666666,
              "#ed7953"
             ],
             [
              0.7777777777777778,
              "#fb9f3a"
             ],
             [
              0.8888888888888888,
              "#fdca26"
             ],
             [
              1,
              "#f0f921"
             ]
            ],
            "type": "histogram2dcontour"
           }
          ],
          "mesh3d": [
           {
            "colorbar": {
             "outlinewidth": 0,
             "ticks": ""
            },
            "type": "mesh3d"
           }
          ],
          "parcoords": [
           {
            "line": {
             "colorbar": {
              "outlinewidth": 0,
              "ticks": ""
             }
            },
            "type": "parcoords"
           }
          ],
          "pie": [
           {
            "automargin": true,
            "type": "pie"
           }
          ],
          "scatter": [
           {
            "marker": {
             "colorbar": {
              "outlinewidth": 0,
              "ticks": ""
             }
            },
            "type": "scatter"
           }
          ],
          "scatter3d": [
           {
            "line": {
             "colorbar": {
              "outlinewidth": 0,
              "ticks": ""
             }
            },
            "marker": {
             "colorbar": {
              "outlinewidth": 0,
              "ticks": ""
             }
            },
            "type": "scatter3d"
           }
          ],
          "scattercarpet": [
           {
            "marker": {
             "colorbar": {
              "outlinewidth": 0,
              "ticks": ""
             }
            },
            "type": "scattercarpet"
           }
          ],
          "scattergeo": [
           {
            "marker": {
             "colorbar": {
              "outlinewidth": 0,
              "ticks": ""
             }
            },
            "type": "scattergeo"
           }
          ],
          "scattergl": [
           {
            "marker": {
             "colorbar": {
              "outlinewidth": 0,
              "ticks": ""
             }
            },
            "type": "scattergl"
           }
          ],
          "scattermapbox": [
           {
            "marker": {
             "colorbar": {
              "outlinewidth": 0,
              "ticks": ""
             }
            },
            "type": "scattermapbox"
           }
          ],
          "scatterpolar": [
           {
            "marker": {
             "colorbar": {
              "outlinewidth": 0,
              "ticks": ""
             }
            },
            "type": "scatterpolar"
           }
          ],
          "scatterpolargl": [
           {
            "marker": {
             "colorbar": {
              "outlinewidth": 0,
              "ticks": ""
             }
            },
            "type": "scatterpolargl"
           }
          ],
          "scatterternary": [
           {
            "marker": {
             "colorbar": {
              "outlinewidth": 0,
              "ticks": ""
             }
            },
            "type": "scatterternary"
           }
          ],
          "surface": [
           {
            "colorbar": {
             "outlinewidth": 0,
             "ticks": ""
            },
            "colorscale": [
             [
              0,
              "#0d0887"
             ],
             [
              0.1111111111111111,
              "#46039f"
             ],
             [
              0.2222222222222222,
              "#7201a8"
             ],
             [
              0.3333333333333333,
              "#9c179e"
             ],
             [
              0.4444444444444444,
              "#bd3786"
             ],
             [
              0.5555555555555556,
              "#d8576b"
             ],
             [
              0.6666666666666666,
              "#ed7953"
             ],
             [
              0.7777777777777778,
              "#fb9f3a"
             ],
             [
              0.8888888888888888,
              "#fdca26"
             ],
             [
              1,
              "#f0f921"
             ]
            ],
            "type": "surface"
           }
          ],
          "table": [
           {
            "cells": {
             "fill": {
              "color": "#EBF0F8"
             },
             "line": {
              "color": "white"
             }
            },
            "header": {
             "fill": {
              "color": "#C8D4E3"
             },
             "line": {
              "color": "white"
             }
            },
            "type": "table"
           }
          ]
         },
         "layout": {
          "annotationdefaults": {
           "arrowcolor": "#2a3f5f",
           "arrowhead": 0,
           "arrowwidth": 1
          },
          "autotypenumbers": "strict",
          "coloraxis": {
           "colorbar": {
            "outlinewidth": 0,
            "ticks": ""
           }
          },
          "colorscale": {
           "diverging": [
            [
             0,
             "#8e0152"
            ],
            [
             0.1,
             "#c51b7d"
            ],
            [
             0.2,
             "#de77ae"
            ],
            [
             0.3,
             "#f1b6da"
            ],
            [
             0.4,
             "#fde0ef"
            ],
            [
             0.5,
             "#f7f7f7"
            ],
            [
             0.6,
             "#e6f5d0"
            ],
            [
             0.7,
             "#b8e186"
            ],
            [
             0.8,
             "#7fbc41"
            ],
            [
             0.9,
             "#4d9221"
            ],
            [
             1,
             "#276419"
            ]
           ],
           "sequential": [
            [
             0,
             "#0d0887"
            ],
            [
             0.1111111111111111,
             "#46039f"
            ],
            [
             0.2222222222222222,
             "#7201a8"
            ],
            [
             0.3333333333333333,
             "#9c179e"
            ],
            [
             0.4444444444444444,
             "#bd3786"
            ],
            [
             0.5555555555555556,
             "#d8576b"
            ],
            [
             0.6666666666666666,
             "#ed7953"
            ],
            [
             0.7777777777777778,
             "#fb9f3a"
            ],
            [
             0.8888888888888888,
             "#fdca26"
            ],
            [
             1,
             "#f0f921"
            ]
           ],
           "sequentialminus": [
            [
             0,
             "#0d0887"
            ],
            [
             0.1111111111111111,
             "#46039f"
            ],
            [
             0.2222222222222222,
             "#7201a8"
            ],
            [
             0.3333333333333333,
             "#9c179e"
            ],
            [
             0.4444444444444444,
             "#bd3786"
            ],
            [
             0.5555555555555556,
             "#d8576b"
            ],
            [
             0.6666666666666666,
             "#ed7953"
            ],
            [
             0.7777777777777778,
             "#fb9f3a"
            ],
            [
             0.8888888888888888,
             "#fdca26"
            ],
            [
             1,
             "#f0f921"
            ]
           ]
          },
          "colorway": [
           "#636efa",
           "#EF553B",
           "#00cc96",
           "#ab63fa",
           "#FFA15A",
           "#19d3f3",
           "#FF6692",
           "#B6E880",
           "#FF97FF",
           "#FECB52"
          ],
          "font": {
           "color": "#2a3f5f"
          },
          "geo": {
           "bgcolor": "white",
           "lakecolor": "white",
           "landcolor": "#E5ECF6",
           "showlakes": true,
           "showland": true,
           "subunitcolor": "white"
          },
          "hoverlabel": {
           "align": "left"
          },
          "hovermode": "closest",
          "mapbox": {
           "style": "light"
          },
          "paper_bgcolor": "white",
          "plot_bgcolor": "#E5ECF6",
          "polar": {
           "angularaxis": {
            "gridcolor": "white",
            "linecolor": "white",
            "ticks": ""
           },
           "bgcolor": "#E5ECF6",
           "radialaxis": {
            "gridcolor": "white",
            "linecolor": "white",
            "ticks": ""
           }
          },
          "scene": {
           "xaxis": {
            "backgroundcolor": "#E5ECF6",
            "gridcolor": "white",
            "gridwidth": 2,
            "linecolor": "white",
            "showbackground": true,
            "ticks": "",
            "zerolinecolor": "white"
           },
           "yaxis": {
            "backgroundcolor": "#E5ECF6",
            "gridcolor": "white",
            "gridwidth": 2,
            "linecolor": "white",
            "showbackground": true,
            "ticks": "",
            "zerolinecolor": "white"
           },
           "zaxis": {
            "backgroundcolor": "#E5ECF6",
            "gridcolor": "white",
            "gridwidth": 2,
            "linecolor": "white",
            "showbackground": true,
            "ticks": "",
            "zerolinecolor": "white"
           }
          },
          "shapedefaults": {
           "line": {
            "color": "#2a3f5f"
           }
          },
          "ternary": {
           "aaxis": {
            "gridcolor": "white",
            "linecolor": "white",
            "ticks": ""
           },
           "baxis": {
            "gridcolor": "white",
            "linecolor": "white",
            "ticks": ""
           },
           "bgcolor": "#E5ECF6",
           "caxis": {
            "gridcolor": "white",
            "linecolor": "white",
            "ticks": ""
           }
          },
          "title": {
           "x": 0.05
          },
          "xaxis": {
           "automargin": true,
           "gridcolor": "white",
           "linecolor": "white",
           "ticks": "",
           "title": {
            "standoff": 15
           },
           "zerolinecolor": "white",
           "zerolinewidth": 2
          },
          "yaxis": {
           "automargin": true,
           "gridcolor": "white",
           "linecolor": "white",
           "ticks": "",
           "title": {
            "standoff": 15
           },
           "zerolinecolor": "white",
           "zerolinewidth": 2
          }
         }
        },
        "xaxis": {
         "anchor": "y",
         "domain": [
          0,
          1
         ],
         "title": {
          "text": "index"
         }
        },
        "yaxis": {
         "anchor": "x",
         "domain": [
          0,
          1
         ],
         "title": {
          "text": "value"
         }
        }
       }
      }
     },
     "metadata": {},
     "output_type": "display_data"
    }
   ],
   "source": [
    "print (df1['cumret'].iloc[-1])\n",
    "fig = px.line(df1['cumret'])\n",
    "fig.show()"
   ]
  }
 ],
 "metadata": {
  "kernelspec": {
   "display_name": "base",
   "language": "python",
   "name": "python3"
  },
  "language_info": {
   "codemirror_mode": {
    "name": "ipython",
    "version": 3
   },
   "file_extension": ".py",
   "mimetype": "text/x-python",
   "name": "python",
   "nbconvert_exporter": "python",
   "pygments_lexer": "ipython3",
   "version": "3.9.7"
  },
  "orig_nbformat": 4,
  "vscode": {
   "interpreter": {
    "hash": "651add51c3cbc36662d3bed529119182c196c96833ac7d541c272038af8218b3"
   }
  }
 },
 "nbformat": 4,
 "nbformat_minor": 2
}
